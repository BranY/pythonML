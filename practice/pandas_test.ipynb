{
 "cells": [
  {
   "cell_type": "code",
   "execution_count": 16,
   "metadata": {},
   "outputs": [
    {
     "name": "stdout",
     "output_type": "stream",
     "text": [
      "            0         1       2   \\\n",
      "0  PassengerId  Survived  Pclass   \n",
      "1            1         0       3   \n",
      "2            2         1       1   \n",
      "3            3         1       3   \n",
      "4            4         1       1   \n",
      "5            5         0       3   \n",
      "6            6         0       3   \n",
      "7            7         0       1   \n",
      "8            8         0       3   \n",
      "9            9         1       3   \n",
      "\n",
      "                                                  3       4    5      6   \\\n",
      "0                                               Name     Sex  Age  SibSp   \n",
      "1                            Braund, Mr. Owen Harris    male   22      1   \n",
      "2  Cumings, Mrs. John Bradley (Florence Briggs Th...  female   38      1   \n",
      "3                             Heikkinen, Miss. Laina  female   26      0   \n",
      "4       Futrelle, Mrs. Jacques Heath (Lily May Peel)  female   35      1   \n",
      "5                           Allen, Mr. William Henry    male   35      0   \n",
      "6                                   Moran, Mr. James    male  NaN      0   \n",
      "7                            McCarthy, Mr. Timothy J    male   54      0   \n",
      "8                     Palsson, Master. Gosta Leonard    male    2      3   \n",
      "9  Johnson, Mrs. Oscar W (Elisabeth Vilhelmina Berg)  female   27      0   \n",
      "\n",
      "      7                 8        9      10        11  \n",
      "0  Parch            Ticket     Fare  Cabin  Embarked  \n",
      "1      0         A/5 21171     7.25    NaN         S  \n",
      "2      0          PC 17599  71.2833    C85         C  \n",
      "3      0  STON/O2. 3101282    7.925    NaN         S  \n",
      "4      0            113803     53.1   C123         S  \n",
      "5      0            373450     8.05    NaN         S  \n",
      "6      0            330877   8.4583    NaN         Q  \n",
      "7      0             17463  51.8625    E46         S  \n",
      "8      1            349909   21.075    NaN         S  \n",
      "9      2            347742  11.1333    NaN         S  \n",
      "(892, 12)\n"
     ]
    }
   ],
   "source": [
    "import pandas as pb\n",
    "\n",
    "data = pb.read_csv(\"../data/train.csv\", header=None,encoding='utf-8')\n",
    "print(data.head(10))\n",
    "print (data.shape)"
   ]
  },
  {
   "cell_type": "code",
   "execution_count": 15,
   "metadata": {},
   "outputs": [
    {
     "name": "stdout",
     "output_type": "stream",
     "text": [
      "(892, 12)\n"
     ]
    }
   ],
   "source": [
    "datax = data.sort_values(by=0, ascending=False)\n",
    "\n",
    "print (datax.shape)"
   ]
  },
  {
   "cell_type": "code",
   "execution_count": 17,
   "metadata": {},
   "outputs": [
    {
     "data": {
      "text/html": [
       "<div>\n",
       "<style>\n",
       "    .dataframe thead tr:only-child th {\n",
       "        text-align: right;\n",
       "    }\n",
       "\n",
       "    .dataframe thead th {\n",
       "        text-align: left;\n",
       "    }\n",
       "\n",
       "    .dataframe tbody tr th {\n",
       "        vertical-align: top;\n",
       "    }\n",
       "</style>\n",
       "<table border=\"1\" class=\"dataframe\">\n",
       "  <thead>\n",
       "    <tr style=\"text-align: right;\">\n",
       "      <th></th>\n",
       "      <th>0</th>\n",
       "      <th>1</th>\n",
       "      <th>2</th>\n",
       "      <th>3</th>\n",
       "      <th>4</th>\n",
       "      <th>5</th>\n",
       "      <th>6</th>\n",
       "      <th>7</th>\n",
       "      <th>8</th>\n",
       "      <th>9</th>\n",
       "      <th>10</th>\n",
       "      <th>11</th>\n",
       "    </tr>\n",
       "  </thead>\n",
       "  <tbody>\n",
       "    <tr>\n",
       "      <th>count</th>\n",
       "      <td>892</td>\n",
       "      <td>892</td>\n",
       "      <td>892</td>\n",
       "      <td>892</td>\n",
       "      <td>892</td>\n",
       "      <td>715</td>\n",
       "      <td>892</td>\n",
       "      <td>892</td>\n",
       "      <td>892</td>\n",
       "      <td>892</td>\n",
       "      <td>205</td>\n",
       "      <td>890</td>\n",
       "    </tr>\n",
       "    <tr>\n",
       "      <th>unique</th>\n",
       "      <td>892</td>\n",
       "      <td>3</td>\n",
       "      <td>4</td>\n",
       "      <td>892</td>\n",
       "      <td>3</td>\n",
       "      <td>89</td>\n",
       "      <td>8</td>\n",
       "      <td>8</td>\n",
       "      <td>682</td>\n",
       "      <td>249</td>\n",
       "      <td>148</td>\n",
       "      <td>4</td>\n",
       "    </tr>\n",
       "    <tr>\n",
       "      <th>top</th>\n",
       "      <td>39</td>\n",
       "      <td>0</td>\n",
       "      <td>3</td>\n",
       "      <td>Beckwith, Mr. Richard Leonard</td>\n",
       "      <td>male</td>\n",
       "      <td>24</td>\n",
       "      <td>0</td>\n",
       "      <td>0</td>\n",
       "      <td>1601</td>\n",
       "      <td>8.05</td>\n",
       "      <td>G6</td>\n",
       "      <td>S</td>\n",
       "    </tr>\n",
       "    <tr>\n",
       "      <th>freq</th>\n",
       "      <td>1</td>\n",
       "      <td>549</td>\n",
       "      <td>491</td>\n",
       "      <td>1</td>\n",
       "      <td>577</td>\n",
       "      <td>30</td>\n",
       "      <td>608</td>\n",
       "      <td>678</td>\n",
       "      <td>7</td>\n",
       "      <td>43</td>\n",
       "      <td>4</td>\n",
       "      <td>644</td>\n",
       "    </tr>\n",
       "  </tbody>\n",
       "</table>\n",
       "</div>"
      ],
      "text/plain": [
       "         0    1    2                              3     4    5    6    7   \\\n",
       "count   892  892  892                            892   892  715  892  892   \n",
       "unique  892    3    4                            892     3   89    8    8   \n",
       "top      39    0    3  Beckwith, Mr. Richard Leonard  male   24    0    0   \n",
       "freq      1  549  491                              1   577   30  608  678   \n",
       "\n",
       "          8     9    10   11  \n",
       "count    892   892  205  890  \n",
       "unique   682   249  148    4  \n",
       "top     1601  8.05   G6    S  \n",
       "freq       7    43    4  644  "
      ]
     },
     "execution_count": 17,
     "metadata": {},
     "output_type": "execute_result"
    }
   ],
   "source": [
    "data.describe()"
   ]
  },
  {
   "cell_type": "code",
   "execution_count": 29,
   "metadata": {},
   "outputs": [
    {
     "name": "stdout",
     "output_type": "stream",
     "text": [
      "2\n",
      "1         216\n",
      "2         184\n",
      "3         491\n",
      "Pclass      1\n",
      "dtype: int64\n"
     ]
    }
   ],
   "source": [
    "survived  = data.groupby(2).size()\n",
    "print (survived)"
   ]
  },
  {
   "cell_type": "code",
   "execution_count": null,
   "metadata": {},
   "outputs": [],
   "source": []
  }
 ],
 "metadata": {
  "kernelspec": {
   "display_name": "Python 3",
   "language": "python",
   "name": "python3"
  },
  "language_info": {
   "codemirror_mode": {
    "name": "ipython",
    "version": 3
   },
   "file_extension": ".py",
   "mimetype": "text/x-python",
   "name": "python",
   "nbconvert_exporter": "python",
   "pygments_lexer": "ipython3",
   "version": "3.6.3"
  }
 },
 "nbformat": 4,
 "nbformat_minor": 2
}
